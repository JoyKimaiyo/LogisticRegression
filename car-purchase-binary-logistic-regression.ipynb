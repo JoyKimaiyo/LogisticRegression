{
 "cells": [
  {
   "cell_type": "code",
   "execution_count": 1,
   "id": "49b1ee64",
   "metadata": {
    "_cell_guid": "b1076dfc-b9ad-4769-8c92-a6c4dae69d19",
    "_uuid": "8f2839f25d086af736a60e9eeb907d3b93b6e0e5",
    "execution": {
     "iopub.execute_input": "2023-07-01T08:46:55.768761Z",
     "iopub.status.busy": "2023-07-01T08:46:55.768350Z",
     "iopub.status.idle": "2023-07-01T08:46:55.779474Z",
     "shell.execute_reply": "2023-07-01T08:46:55.778374Z"
    },
    "papermill": {
     "duration": 0.019954,
     "end_time": "2023-07-01T08:46:55.781757",
     "exception": false,
     "start_time": "2023-07-01T08:46:55.761803",
     "status": "completed"
    },
    "tags": []
   },
   "outputs": [],
   "source": [
    "import pandas as pd"
   ]
  },
  {
   "cell_type": "code",
   "execution_count": 2,
   "id": "2ae6d552",
   "metadata": {
    "execution": {
     "iopub.execute_input": "2023-07-01T08:46:55.792505Z",
     "iopub.status.busy": "2023-07-01T08:46:55.791767Z",
     "iopub.status.idle": "2023-07-01T08:46:55.841117Z",
     "shell.execute_reply": "2023-07-01T08:46:55.839996Z"
    },
    "papermill": {
     "duration": 0.057692,
     "end_time": "2023-07-01T08:46:55.843942",
     "exception": false,
     "start_time": "2023-07-01T08:46:55.786250",
     "status": "completed"
    },
    "tags": []
   },
   "outputs": [
    {
     "data": {
      "text/html": [
       "<div>\n",
       "<style scoped>\n",
       "    .dataframe tbody tr th:only-of-type {\n",
       "        vertical-align: middle;\n",
       "    }\n",
       "\n",
       "    .dataframe tbody tr th {\n",
       "        vertical-align: top;\n",
       "    }\n",
       "\n",
       "    .dataframe thead th {\n",
       "        text-align: right;\n",
       "    }\n",
       "</style>\n",
       "<table border=\"1\" class=\"dataframe\">\n",
       "  <thead>\n",
       "    <tr style=\"text-align: right;\">\n",
       "      <th></th>\n",
       "      <th>User ID</th>\n",
       "      <th>Gender</th>\n",
       "      <th>Age</th>\n",
       "      <th>AnnualSalary</th>\n",
       "      <th>Purchased</th>\n",
       "    </tr>\n",
       "  </thead>\n",
       "  <tbody>\n",
       "    <tr>\n",
       "      <th>0</th>\n",
       "      <td>385</td>\n",
       "      <td>Male</td>\n",
       "      <td>35</td>\n",
       "      <td>20000</td>\n",
       "      <td>0</td>\n",
       "    </tr>\n",
       "    <tr>\n",
       "      <th>1</th>\n",
       "      <td>681</td>\n",
       "      <td>Male</td>\n",
       "      <td>40</td>\n",
       "      <td>43500</td>\n",
       "      <td>0</td>\n",
       "    </tr>\n",
       "    <tr>\n",
       "      <th>2</th>\n",
       "      <td>353</td>\n",
       "      <td>Male</td>\n",
       "      <td>49</td>\n",
       "      <td>74000</td>\n",
       "      <td>0</td>\n",
       "    </tr>\n",
       "    <tr>\n",
       "      <th>3</th>\n",
       "      <td>895</td>\n",
       "      <td>Male</td>\n",
       "      <td>40</td>\n",
       "      <td>107500</td>\n",
       "      <td>1</td>\n",
       "    </tr>\n",
       "    <tr>\n",
       "      <th>4</th>\n",
       "      <td>661</td>\n",
       "      <td>Male</td>\n",
       "      <td>25</td>\n",
       "      <td>79000</td>\n",
       "      <td>0</td>\n",
       "    </tr>\n",
       "  </tbody>\n",
       "</table>\n",
       "</div>"
      ],
      "text/plain": [
       "   User ID Gender  Age  AnnualSalary  Purchased\n",
       "0      385   Male   35         20000          0\n",
       "1      681   Male   40         43500          0\n",
       "2      353   Male   49         74000          0\n",
       "3      895   Male   40        107500          1\n",
       "4      661   Male   25         79000          0"
      ]
     },
     "execution_count": 2,
     "metadata": {},
     "output_type": "execute_result"
    }
   ],
   "source": [
    "df = pd.read_csv('/kaggle/input/cars-purchase-decision-dataset/car_data.csv')\n",
    "df.head()"
   ]
  },
  {
   "cell_type": "code",
   "execution_count": 3,
   "id": "e637559b",
   "metadata": {
    "execution": {
     "iopub.execute_input": "2023-07-01T08:46:55.854924Z",
     "iopub.status.busy": "2023-07-01T08:46:55.854564Z",
     "iopub.status.idle": "2023-07-01T08:46:55.865347Z",
     "shell.execute_reply": "2023-07-01T08:46:55.864217Z"
    },
    "papermill": {
     "duration": 0.019347,
     "end_time": "2023-07-01T08:46:55.867778",
     "exception": false,
     "start_time": "2023-07-01T08:46:55.848431",
     "status": "completed"
    },
    "tags": []
   },
   "outputs": [
    {
     "data": {
      "text/plain": [
       "User ID         0\n",
       "Gender          0\n",
       "Age             0\n",
       "AnnualSalary    0\n",
       "Purchased       0\n",
       "dtype: int64"
      ]
     },
     "execution_count": 3,
     "metadata": {},
     "output_type": "execute_result"
    }
   ],
   "source": [
    "df.isnull().sum()"
   ]
  },
  {
   "cell_type": "code",
   "execution_count": 4,
   "id": "48b096cf",
   "metadata": {
    "execution": {
     "iopub.execute_input": "2023-07-01T08:46:55.879121Z",
     "iopub.status.busy": "2023-07-01T08:46:55.878212Z",
     "iopub.status.idle": "2023-07-01T08:46:55.893314Z",
     "shell.execute_reply": "2023-07-01T08:46:55.892186Z"
    },
    "papermill": {
     "duration": 0.023128,
     "end_time": "2023-07-01T08:46:55.895477",
     "exception": false,
     "start_time": "2023-07-01T08:46:55.872349",
     "status": "completed"
    },
    "tags": []
   },
   "outputs": [
    {
     "data": {
      "text/plain": [
       "<bound method DataFrame.info of      User ID  Gender  Age  AnnualSalary  Purchased\n",
       "0        385    Male   35         20000          0\n",
       "1        681    Male   40         43500          0\n",
       "2        353    Male   49         74000          0\n",
       "3        895    Male   40        107500          1\n",
       "4        661    Male   25         79000          0\n",
       "..       ...     ...  ...           ...        ...\n",
       "995      863    Male   38         59000          0\n",
       "996      800  Female   47         23500          0\n",
       "997      407  Female   28        138500          1\n",
       "998      299  Female   48        134000          1\n",
       "999      687  Female   44         73500          0\n",
       "\n",
       "[1000 rows x 5 columns]>"
      ]
     },
     "execution_count": 4,
     "metadata": {},
     "output_type": "execute_result"
    }
   ],
   "source": [
    "df.info"
   ]
  },
  {
   "cell_type": "code",
   "execution_count": 5,
   "id": "4069e0a5",
   "metadata": {
    "execution": {
     "iopub.execute_input": "2023-07-01T08:46:55.906520Z",
     "iopub.status.busy": "2023-07-01T08:46:55.906123Z",
     "iopub.status.idle": "2023-07-01T08:46:55.918857Z",
     "shell.execute_reply": "2023-07-01T08:46:55.917773Z"
    },
    "papermill": {
     "duration": 0.02095,
     "end_time": "2023-07-01T08:46:55.921171",
     "exception": false,
     "start_time": "2023-07-01T08:46:55.900221",
     "status": "completed"
    },
    "tags": []
   },
   "outputs": [
    {
     "name": "stdout",
     "output_type": "stream",
     "text": [
      "     Female  Male\n",
      "0         0     1\n",
      "1         0     1\n",
      "2         0     1\n",
      "3         0     1\n",
      "4         0     1\n",
      "..      ...   ...\n",
      "995       0     1\n",
      "996       1     0\n",
      "997       1     0\n",
      "998       1     0\n",
      "999       1     0\n",
      "\n",
      "[1000 rows x 2 columns]\n"
     ]
    }
   ],
   "source": [
    "dummies = pd.get_dummies(df.Gender)\n",
    "print(dummies)"
   ]
  },
  {
   "cell_type": "code",
   "execution_count": 6,
   "id": "143566bb",
   "metadata": {
    "execution": {
     "iopub.execute_input": "2023-07-01T08:46:55.932532Z",
     "iopub.status.busy": "2023-07-01T08:46:55.932161Z",
     "iopub.status.idle": "2023-07-01T08:46:55.943299Z",
     "shell.execute_reply": "2023-07-01T08:46:55.942195Z"
    },
    "papermill": {
     "duration": 0.019543,
     "end_time": "2023-07-01T08:46:55.945433",
     "exception": false,
     "start_time": "2023-07-01T08:46:55.925890",
     "status": "completed"
    },
    "tags": []
   },
   "outputs": [
    {
     "name": "stdout",
     "output_type": "stream",
     "text": [
      "     User ID  Gender  Age  AnnualSalary  Purchased  Female  Male\n",
      "0        385    Male   35         20000          0       0     1\n",
      "1        681    Male   40         43500          0       0     1\n",
      "2        353    Male   49         74000          0       0     1\n",
      "3        895    Male   40        107500          1       0     1\n",
      "4        661    Male   25         79000          0       0     1\n",
      "..       ...     ...  ...           ...        ...     ...   ...\n",
      "995      863    Male   38         59000          0       0     1\n",
      "996      800  Female   47         23500          0       1     0\n",
      "997      407  Female   28        138500          1       1     0\n",
      "998      299  Female   48        134000          1       1     0\n",
      "999      687  Female   44         73500          0       1     0\n",
      "\n",
      "[1000 rows x 7 columns]\n"
     ]
    }
   ],
   "source": [
    "merge = pd.concat([df,dummies],axis=1)\n",
    "print(merge)"
   ]
  },
  {
   "cell_type": "code",
   "execution_count": 7,
   "id": "c5e63bf9",
   "metadata": {
    "execution": {
     "iopub.execute_input": "2023-07-01T08:46:55.958242Z",
     "iopub.status.busy": "2023-07-01T08:46:55.957851Z",
     "iopub.status.idle": "2023-07-01T08:46:55.972375Z",
     "shell.execute_reply": "2023-07-01T08:46:55.971324Z"
    },
    "papermill": {
     "duration": 0.022797,
     "end_time": "2023-07-01T08:46:55.974403",
     "exception": false,
     "start_time": "2023-07-01T08:46:55.951606",
     "status": "completed"
    },
    "tags": []
   },
   "outputs": [
    {
     "data": {
      "text/html": [
       "<div>\n",
       "<style scoped>\n",
       "    .dataframe tbody tr th:only-of-type {\n",
       "        vertical-align: middle;\n",
       "    }\n",
       "\n",
       "    .dataframe tbody tr th {\n",
       "        vertical-align: top;\n",
       "    }\n",
       "\n",
       "    .dataframe thead th {\n",
       "        text-align: right;\n",
       "    }\n",
       "</style>\n",
       "<table border=\"1\" class=\"dataframe\">\n",
       "  <thead>\n",
       "    <tr style=\"text-align: right;\">\n",
       "      <th></th>\n",
       "      <th>User ID</th>\n",
       "      <th>Age</th>\n",
       "      <th>AnnualSalary</th>\n",
       "      <th>Purchased</th>\n",
       "      <th>Male</th>\n",
       "    </tr>\n",
       "  </thead>\n",
       "  <tbody>\n",
       "    <tr>\n",
       "      <th>0</th>\n",
       "      <td>385</td>\n",
       "      <td>35</td>\n",
       "      <td>20000</td>\n",
       "      <td>0</td>\n",
       "      <td>1</td>\n",
       "    </tr>\n",
       "    <tr>\n",
       "      <th>1</th>\n",
       "      <td>681</td>\n",
       "      <td>40</td>\n",
       "      <td>43500</td>\n",
       "      <td>0</td>\n",
       "      <td>1</td>\n",
       "    </tr>\n",
       "    <tr>\n",
       "      <th>2</th>\n",
       "      <td>353</td>\n",
       "      <td>49</td>\n",
       "      <td>74000</td>\n",
       "      <td>0</td>\n",
       "      <td>1</td>\n",
       "    </tr>\n",
       "    <tr>\n",
       "      <th>3</th>\n",
       "      <td>895</td>\n",
       "      <td>40</td>\n",
       "      <td>107500</td>\n",
       "      <td>1</td>\n",
       "      <td>1</td>\n",
       "    </tr>\n",
       "    <tr>\n",
       "      <th>4</th>\n",
       "      <td>661</td>\n",
       "      <td>25</td>\n",
       "      <td>79000</td>\n",
       "      <td>0</td>\n",
       "      <td>1</td>\n",
       "    </tr>\n",
       "    <tr>\n",
       "      <th>...</th>\n",
       "      <td>...</td>\n",
       "      <td>...</td>\n",
       "      <td>...</td>\n",
       "      <td>...</td>\n",
       "      <td>...</td>\n",
       "    </tr>\n",
       "    <tr>\n",
       "      <th>995</th>\n",
       "      <td>863</td>\n",
       "      <td>38</td>\n",
       "      <td>59000</td>\n",
       "      <td>0</td>\n",
       "      <td>1</td>\n",
       "    </tr>\n",
       "    <tr>\n",
       "      <th>996</th>\n",
       "      <td>800</td>\n",
       "      <td>47</td>\n",
       "      <td>23500</td>\n",
       "      <td>0</td>\n",
       "      <td>0</td>\n",
       "    </tr>\n",
       "    <tr>\n",
       "      <th>997</th>\n",
       "      <td>407</td>\n",
       "      <td>28</td>\n",
       "      <td>138500</td>\n",
       "      <td>1</td>\n",
       "      <td>0</td>\n",
       "    </tr>\n",
       "    <tr>\n",
       "      <th>998</th>\n",
       "      <td>299</td>\n",
       "      <td>48</td>\n",
       "      <td>134000</td>\n",
       "      <td>1</td>\n",
       "      <td>0</td>\n",
       "    </tr>\n",
       "    <tr>\n",
       "      <th>999</th>\n",
       "      <td>687</td>\n",
       "      <td>44</td>\n",
       "      <td>73500</td>\n",
       "      <td>0</td>\n",
       "      <td>0</td>\n",
       "    </tr>\n",
       "  </tbody>\n",
       "</table>\n",
       "<p>1000 rows × 5 columns</p>\n",
       "</div>"
      ],
      "text/plain": [
       "     User ID  Age  AnnualSalary  Purchased  Male\n",
       "0        385   35         20000          0     1\n",
       "1        681   40         43500          0     1\n",
       "2        353   49         74000          0     1\n",
       "3        895   40        107500          1     1\n",
       "4        661   25         79000          0     1\n",
       "..       ...  ...           ...        ...   ...\n",
       "995      863   38         59000          0     1\n",
       "996      800   47         23500          0     0\n",
       "997      407   28        138500          1     0\n",
       "998      299   48        134000          1     0\n",
       "999      687   44         73500          0     0\n",
       "\n",
       "[1000 rows x 5 columns]"
      ]
     },
     "execution_count": 7,
     "metadata": {},
     "output_type": "execute_result"
    }
   ],
   "source": [
    "merge.drop(['Gender','Female'], axis=1,inplace=True)\n",
    "merge"
   ]
  },
  {
   "cell_type": "code",
   "execution_count": 8,
   "id": "1e1d8b96",
   "metadata": {
    "execution": {
     "iopub.execute_input": "2023-07-01T08:46:55.985828Z",
     "iopub.status.busy": "2023-07-01T08:46:55.985469Z",
     "iopub.status.idle": "2023-07-01T08:46:55.995403Z",
     "shell.execute_reply": "2023-07-01T08:46:55.994381Z"
    },
    "papermill": {
     "duration": 0.01812,
     "end_time": "2023-07-01T08:46:55.997457",
     "exception": false,
     "start_time": "2023-07-01T08:46:55.979337",
     "status": "completed"
    },
    "tags": []
   },
   "outputs": [
    {
     "data": {
      "text/plain": [
       "User ID         0\n",
       "Age             0\n",
       "AnnualSalary    0\n",
       "Purchased       0\n",
       "Male            0\n",
       "dtype: int64"
      ]
     },
     "execution_count": 8,
     "metadata": {},
     "output_type": "execute_result"
    }
   ],
   "source": [
    "merge.isnull().sum()"
   ]
  },
  {
   "cell_type": "code",
   "execution_count": 9,
   "id": "04072246",
   "metadata": {
    "execution": {
     "iopub.execute_input": "2023-07-01T08:46:56.009941Z",
     "iopub.status.busy": "2023-07-01T08:46:56.009544Z",
     "iopub.status.idle": "2023-07-01T08:46:56.021774Z",
     "shell.execute_reply": "2023-07-01T08:46:56.020387Z"
    },
    "papermill": {
     "duration": 0.020762,
     "end_time": "2023-07-01T08:46:56.023904",
     "exception": false,
     "start_time": "2023-07-01T08:46:56.003142",
     "status": "completed"
    },
    "tags": []
   },
   "outputs": [
    {
     "name": "stdout",
     "output_type": "stream",
     "text": [
      "                   Age  AnnualSalary  Purchased      Male\n",
      "Age           1.000000      0.166042   0.616036 -0.084760\n",
      "AnnualSalary  0.166042      1.000000   0.364974 -0.063301\n",
      "Purchased     0.616036      0.364974   1.000000 -0.047211\n",
      "Male         -0.084760     -0.063301  -0.047211  1.000000\n"
     ]
    }
   ],
   "source": [
    "corr = merge[['Age','AnnualSalary','Purchased','Male']].corr()\n",
    "print(corr)"
   ]
  },
  {
   "cell_type": "code",
   "execution_count": 10,
   "id": "739533cf",
   "metadata": {
    "execution": {
     "iopub.execute_input": "2023-07-01T08:46:56.036523Z",
     "iopub.status.busy": "2023-07-01T08:46:56.035892Z",
     "iopub.status.idle": "2023-07-01T08:46:57.453169Z",
     "shell.execute_reply": "2023-07-01T08:46:57.452304Z"
    },
    "papermill": {
     "duration": 1.426046,
     "end_time": "2023-07-01T08:46:57.455532",
     "exception": false,
     "start_time": "2023-07-01T08:46:56.029486",
     "status": "completed"
    },
    "tags": []
   },
   "outputs": [],
   "source": [
    "from sklearn.model_selection import train_test_split\n",
    "x=merge[['Age','AnnualSalary','Male']]\n",
    "y=merge['Purchased']"
   ]
  },
  {
   "cell_type": "code",
   "execution_count": 11,
   "id": "666a5cc7",
   "metadata": {
    "execution": {
     "iopub.execute_input": "2023-07-01T08:46:57.467881Z",
     "iopub.status.busy": "2023-07-01T08:46:57.467243Z",
     "iopub.status.idle": "2023-07-01T08:46:57.473144Z",
     "shell.execute_reply": "2023-07-01T08:46:57.472187Z"
    },
    "papermill": {
     "duration": 0.014602,
     "end_time": "2023-07-01T08:46:57.475410",
     "exception": false,
     "start_time": "2023-07-01T08:46:57.460808",
     "status": "completed"
    },
    "tags": []
   },
   "outputs": [],
   "source": [
    "x_test,x_train,y_test,y_train= train_test_split(x,y,test_size=0.3)"
   ]
  },
  {
   "cell_type": "code",
   "execution_count": 12,
   "id": "26599df0",
   "metadata": {
    "execution": {
     "iopub.execute_input": "2023-07-01T08:46:57.487432Z",
     "iopub.status.busy": "2023-07-01T08:46:57.486815Z",
     "iopub.status.idle": "2023-07-01T08:46:57.596987Z",
     "shell.execute_reply": "2023-07-01T08:46:57.595874Z"
    },
    "papermill": {
     "duration": 0.119266,
     "end_time": "2023-07-01T08:46:57.599794",
     "exception": false,
     "start_time": "2023-07-01T08:46:57.480528",
     "status": "completed"
    },
    "tags": []
   },
   "outputs": [],
   "source": [
    "from sklearn.linear_model import LogisticRegression\n"
   ]
  },
  {
   "cell_type": "code",
   "execution_count": 13,
   "id": "0b84892c",
   "metadata": {
    "execution": {
     "iopub.execute_input": "2023-07-01T08:46:57.612422Z",
     "iopub.status.busy": "2023-07-01T08:46:57.612028Z",
     "iopub.status.idle": "2023-07-01T08:46:57.641320Z",
     "shell.execute_reply": "2023-07-01T08:46:57.640222Z"
    },
    "papermill": {
     "duration": 0.038343,
     "end_time": "2023-07-01T08:46:57.643677",
     "exception": false,
     "start_time": "2023-07-01T08:46:57.605334",
     "status": "completed"
    },
    "tags": []
   },
   "outputs": [
    {
     "data": {
      "text/html": [
       "<style>#sk-container-id-1 {color: black;background-color: white;}#sk-container-id-1 pre{padding: 0;}#sk-container-id-1 div.sk-toggleable {background-color: white;}#sk-container-id-1 label.sk-toggleable__label {cursor: pointer;display: block;width: 100%;margin-bottom: 0;padding: 0.3em;box-sizing: border-box;text-align: center;}#sk-container-id-1 label.sk-toggleable__label-arrow:before {content: \"▸\";float: left;margin-right: 0.25em;color: #696969;}#sk-container-id-1 label.sk-toggleable__label-arrow:hover:before {color: black;}#sk-container-id-1 div.sk-estimator:hover label.sk-toggleable__label-arrow:before {color: black;}#sk-container-id-1 div.sk-toggleable__content {max-height: 0;max-width: 0;overflow: hidden;text-align: left;background-color: #f0f8ff;}#sk-container-id-1 div.sk-toggleable__content pre {margin: 0.2em;color: black;border-radius: 0.25em;background-color: #f0f8ff;}#sk-container-id-1 input.sk-toggleable__control:checked~div.sk-toggleable__content {max-height: 200px;max-width: 100%;overflow: auto;}#sk-container-id-1 input.sk-toggleable__control:checked~label.sk-toggleable__label-arrow:before {content: \"▾\";}#sk-container-id-1 div.sk-estimator input.sk-toggleable__control:checked~label.sk-toggleable__label {background-color: #d4ebff;}#sk-container-id-1 div.sk-label input.sk-toggleable__control:checked~label.sk-toggleable__label {background-color: #d4ebff;}#sk-container-id-1 input.sk-hidden--visually {border: 0;clip: rect(1px 1px 1px 1px);clip: rect(1px, 1px, 1px, 1px);height: 1px;margin: -1px;overflow: hidden;padding: 0;position: absolute;width: 1px;}#sk-container-id-1 div.sk-estimator {font-family: monospace;background-color: #f0f8ff;border: 1px dotted black;border-radius: 0.25em;box-sizing: border-box;margin-bottom: 0.5em;}#sk-container-id-1 div.sk-estimator:hover {background-color: #d4ebff;}#sk-container-id-1 div.sk-parallel-item::after {content: \"\";width: 100%;border-bottom: 1px solid gray;flex-grow: 1;}#sk-container-id-1 div.sk-label:hover label.sk-toggleable__label {background-color: #d4ebff;}#sk-container-id-1 div.sk-serial::before {content: \"\";position: absolute;border-left: 1px solid gray;box-sizing: border-box;top: 0;bottom: 0;left: 50%;z-index: 0;}#sk-container-id-1 div.sk-serial {display: flex;flex-direction: column;align-items: center;background-color: white;padding-right: 0.2em;padding-left: 0.2em;position: relative;}#sk-container-id-1 div.sk-item {position: relative;z-index: 1;}#sk-container-id-1 div.sk-parallel {display: flex;align-items: stretch;justify-content: center;background-color: white;position: relative;}#sk-container-id-1 div.sk-item::before, #sk-container-id-1 div.sk-parallel-item::before {content: \"\";position: absolute;border-left: 1px solid gray;box-sizing: border-box;top: 0;bottom: 0;left: 50%;z-index: -1;}#sk-container-id-1 div.sk-parallel-item {display: flex;flex-direction: column;z-index: 1;position: relative;background-color: white;}#sk-container-id-1 div.sk-parallel-item:first-child::after {align-self: flex-end;width: 50%;}#sk-container-id-1 div.sk-parallel-item:last-child::after {align-self: flex-start;width: 50%;}#sk-container-id-1 div.sk-parallel-item:only-child::after {width: 0;}#sk-container-id-1 div.sk-dashed-wrapped {border: 1px dashed gray;margin: 0 0.4em 0.5em 0.4em;box-sizing: border-box;padding-bottom: 0.4em;background-color: white;}#sk-container-id-1 div.sk-label label {font-family: monospace;font-weight: bold;display: inline-block;line-height: 1.2em;}#sk-container-id-1 div.sk-label-container {text-align: center;}#sk-container-id-1 div.sk-container {/* jupyter's `normalize.less` sets `[hidden] { display: none; }` but bootstrap.min.css set `[hidden] { display: none !important; }` so we also need the `!important` here to be able to override the default hidden behavior on the sphinx rendered scikit-learn.org. See: https://github.com/scikit-learn/scikit-learn/issues/21755 */display: inline-block !important;position: relative;}#sk-container-id-1 div.sk-text-repr-fallback {display: none;}</style><div id=\"sk-container-id-1\" class=\"sk-top-container\"><div class=\"sk-text-repr-fallback\"><pre>LogisticRegression()</pre><b>In a Jupyter environment, please rerun this cell to show the HTML representation or trust the notebook. <br />On GitHub, the HTML representation is unable to render, please try loading this page with nbviewer.org.</b></div><div class=\"sk-container\" hidden><div class=\"sk-item\"><div class=\"sk-estimator sk-toggleable\"><input class=\"sk-toggleable__control sk-hidden--visually\" id=\"sk-estimator-id-1\" type=\"checkbox\" checked><label for=\"sk-estimator-id-1\" class=\"sk-toggleable__label sk-toggleable__label-arrow\">LogisticRegression</label><div class=\"sk-toggleable__content\"><pre>LogisticRegression()</pre></div></div></div></div></div>"
      ],
      "text/plain": [
       "LogisticRegression()"
      ]
     },
     "execution_count": 13,
     "metadata": {},
     "output_type": "execute_result"
    }
   ],
   "source": [
    "model =LogisticRegression() \n",
    "model.fit(x_train,y_train)"
   ]
  },
  {
   "cell_type": "code",
   "execution_count": 14,
   "id": "8bc23240",
   "metadata": {
    "execution": {
     "iopub.execute_input": "2023-07-01T08:46:57.656524Z",
     "iopub.status.busy": "2023-07-01T08:46:57.656126Z",
     "iopub.status.idle": "2023-07-01T08:46:57.667268Z",
     "shell.execute_reply": "2023-07-01T08:46:57.666050Z"
    },
    "papermill": {
     "duration": 0.020098,
     "end_time": "2023-07-01T08:46:57.669323",
     "exception": false,
     "start_time": "2023-07-01T08:46:57.649225",
     "status": "completed"
    },
    "tags": []
   },
   "outputs": [
    {
     "data": {
      "text/plain": [
       "array([0, 0, 1, 1, 1, 1, 0, 1, 0, 0, 0, 1, 1, 0, 1, 0, 0, 1, 1, 0, 0, 1,\n",
       "       0, 0, 0, 0, 1, 0, 1, 1, 0, 1, 0, 0, 0, 1, 0, 1, 1, 0, 1, 0, 1, 0,\n",
       "       1, 1, 1, 0, 1, 1, 1, 0, 1, 0, 1, 0, 1, 1, 1, 0, 1, 0, 0, 1, 1, 0,\n",
       "       0, 1, 1, 0, 0, 0, 0, 0, 1, 1, 0, 0, 0, 0, 0, 0, 1, 1, 1, 1, 1, 0,\n",
       "       0, 0, 1, 1, 1, 0, 0, 0, 0, 1, 1, 0, 1, 0, 0, 0, 0, 1, 0, 1, 0, 1,\n",
       "       0, 1, 1, 0, 1, 1, 1, 0, 1, 0, 0, 0, 0, 0, 0, 0, 0, 1, 1, 1, 1, 0,\n",
       "       0, 1, 0, 1, 0, 1, 0, 0, 0, 1, 0, 0, 0, 0, 0, 1, 0, 1, 0, 1, 1, 0,\n",
       "       1, 0, 0, 0, 1, 0, 0, 0, 1, 0, 0, 1, 0, 1, 0, 0, 1, 0, 1, 1, 0, 0,\n",
       "       1, 1, 0, 1, 1, 0, 0, 1, 1, 0, 0, 0, 0, 1, 0, 1, 0, 1, 1, 1, 1, 0,\n",
       "       1, 0, 0, 0, 1, 1, 1, 1, 1, 0, 0, 0, 0, 0, 0, 0, 0, 0, 0, 0, 0, 0,\n",
       "       0, 0, 0, 0, 0, 0, 1, 0, 1, 0, 0, 0, 0, 1, 0, 1, 1, 0, 0, 1, 0, 1,\n",
       "       0, 0, 1, 1, 1, 0, 0, 0, 1, 0, 0, 0, 0, 1, 1, 0, 0, 0, 1, 1, 0, 0,\n",
       "       0, 1, 1, 1, 1, 0, 1, 1, 0, 0, 0, 0, 0, 1, 1, 1, 0, 1, 0, 0, 1, 1,\n",
       "       0, 0, 1, 1, 1, 0, 1, 1, 1, 0, 0, 0, 0, 1, 0, 0, 1, 1, 0, 0, 0, 0,\n",
       "       0, 1, 1, 0, 0, 0, 1, 0, 1, 1, 1, 1, 0, 1, 0, 0, 1, 0, 0, 1, 0, 0,\n",
       "       1, 1, 0, 1, 0, 1, 0, 0, 0, 1, 0, 0, 0, 1, 1, 1, 1, 1, 1, 0, 0, 1,\n",
       "       1, 1, 0, 1, 0, 1, 0, 0, 0, 0, 0, 0, 0, 1, 0, 1, 0, 1, 1, 0, 1, 1,\n",
       "       1, 0, 0, 1, 0, 1, 0, 0, 0, 0, 1, 1, 0, 1, 0, 1, 0, 0, 0, 0, 1, 0,\n",
       "       0, 0, 0, 0, 0, 0, 0, 0, 0, 1, 0, 1, 1, 1, 0, 1, 0, 0, 1, 1, 0, 0,\n",
       "       1, 1, 0, 1, 0, 0, 0, 1, 1, 1, 1, 1, 0, 1, 0, 1, 0, 0, 1, 0, 0, 0,\n",
       "       0, 1, 1, 0, 1, 0, 0, 1, 0, 0, 1, 0, 0, 1, 1, 0, 0, 0, 0, 0, 0, 1,\n",
       "       0, 0, 0, 0, 1, 1, 1, 0, 1, 1, 0, 0, 1, 1, 1, 1, 0, 1, 0, 0, 0, 0,\n",
       "       0, 1, 1, 1, 0, 0, 0, 1, 0, 1, 1, 0, 0, 1, 0, 0, 1, 0, 1, 0, 1, 0,\n",
       "       0, 1, 1, 0, 0, 1, 0, 0, 1, 0, 0, 0, 0, 0, 1, 0, 1, 1, 0, 0, 0, 1,\n",
       "       1, 0, 1, 0, 1, 1, 1, 1, 1, 0, 0, 1, 1, 0, 0, 0, 1, 0, 1, 0, 0, 0,\n",
       "       1, 0, 0, 0, 1, 0, 1, 0, 0, 0, 0, 1, 0, 0, 0, 0, 0, 1, 1, 0, 0, 1,\n",
       "       0, 0, 0, 1, 0, 0, 0, 0, 0, 1, 1, 1, 0, 1, 0, 0, 0, 0, 1, 0, 1, 0,\n",
       "       1, 0, 0, 1, 0, 0, 0, 1, 1, 1, 1, 0, 1, 0, 1, 0, 1, 1, 0, 0, 0, 0,\n",
       "       1, 1, 0, 0, 0, 0, 0, 0, 1, 0, 1, 1, 0, 0, 1, 1, 0, 1, 1, 1, 0, 0,\n",
       "       1, 0, 1, 1, 0, 0, 1, 1, 0, 1, 1, 0, 0, 1, 0, 1, 1, 0, 0, 1, 1, 0,\n",
       "       0, 1, 1, 1, 0, 1, 1, 0, 0, 0, 1, 1, 1, 0, 1, 0, 1, 0, 1, 0, 0, 0,\n",
       "       1, 0, 0, 0, 1, 1, 1, 1, 0, 0, 0, 1, 1, 1, 0, 1, 0, 1])"
      ]
     },
     "execution_count": 14,
     "metadata": {},
     "output_type": "execute_result"
    }
   ],
   "source": [
    "model.predict(x_test)"
   ]
  },
  {
   "cell_type": "code",
   "execution_count": 15,
   "id": "85beab66",
   "metadata": {
    "execution": {
     "iopub.execute_input": "2023-07-01T08:46:57.682633Z",
     "iopub.status.busy": "2023-07-01T08:46:57.681956Z",
     "iopub.status.idle": "2023-07-01T08:46:57.692205Z",
     "shell.execute_reply": "2023-07-01T08:46:57.691155Z"
    },
    "papermill": {
     "duration": 0.019817,
     "end_time": "2023-07-01T08:46:57.694724",
     "exception": false,
     "start_time": "2023-07-01T08:46:57.674907",
     "status": "completed"
    },
    "tags": []
   },
   "outputs": [
    {
     "data": {
      "text/plain": [
       "0.5557142857142857"
      ]
     },
     "execution_count": 15,
     "metadata": {},
     "output_type": "execute_result"
    }
   ],
   "source": [
    "model.score(x_test,y_test)"
   ]
  },
  {
   "cell_type": "code",
   "execution_count": 16,
   "id": "59a2f44d",
   "metadata": {
    "execution": {
     "iopub.execute_input": "2023-07-01T08:46:57.708561Z",
     "iopub.status.busy": "2023-07-01T08:46:57.707638Z",
     "iopub.status.idle": "2023-07-01T08:46:57.716365Z",
     "shell.execute_reply": "2023-07-01T08:46:57.715527Z"
    },
    "papermill": {
     "duration": 0.017666,
     "end_time": "2023-07-01T08:46:57.718301",
     "exception": false,
     "start_time": "2023-07-01T08:46:57.700635",
     "status": "completed"
    },
    "tags": []
   },
   "outputs": [
    {
     "data": {
      "text/plain": [
       "array([[0.5154248 , 0.4845752 ],\n",
       "       [0.51601301, 0.48398699],\n",
       "       [0.49890993, 0.50109007],\n",
       "       ...,\n",
       "       [0.47022872, 0.52977128],\n",
       "       [0.50412667, 0.49587333],\n",
       "       [0.48481091, 0.51518909]])"
      ]
     },
     "execution_count": 16,
     "metadata": {},
     "output_type": "execute_result"
    }
   ],
   "source": [
    "model.predict_proba(x_test)"
   ]
  }
 ],
 "metadata": {
  "kernelspec": {
   "display_name": "Python 3",
   "language": "python",
   "name": "python3"
  },
  "language_info": {
   "codemirror_mode": {
    "name": "ipython",
    "version": 3
   },
   "file_extension": ".py",
   "mimetype": "text/x-python",
   "name": "python",
   "nbconvert_exporter": "python",
   "pygments_lexer": "ipython3",
   "version": "3.10.10"
  },
  "papermill": {
   "default_parameters": {},
   "duration": 15.077928,
   "end_time": "2023-07-01T08:46:58.745117",
   "environment_variables": {},
   "exception": null,
   "input_path": "__notebook__.ipynb",
   "output_path": "__notebook__.ipynb",
   "parameters": {},
   "start_time": "2023-07-01T08:46:43.667189",
   "version": "2.4.0"
  }
 },
 "nbformat": 4,
 "nbformat_minor": 5
}
